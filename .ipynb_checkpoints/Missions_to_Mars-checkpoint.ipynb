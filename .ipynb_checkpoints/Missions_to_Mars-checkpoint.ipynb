{
 "cells": [
  {
   "cell_type": "code",
   "execution_count": 5,
   "id": "e90f3d4d",
   "metadata": {},
   "outputs": [],
   "source": [
    "# import Dependencies\n",
    "import pandas as pd\n",
    "from splinter import Browser\n",
    "import os\n",
    "from bs4 import BeautifulSoup as bs\n",
    "import requests\n",
    "from selenium import webdriver\n",
    "from webdriver_manager.chrome import ChromeDriverManager\n",
    "import urllib.request"
   ]
  },
  {
   "cell_type": "code",
   "execution_count": 6,
   "id": "f7b61034",
   "metadata": {},
   "outputs": [],
   "source": [
    "executable_path = {'executable_path': ChromeDriverManager().install()}\n",
    "browser = Browser('chrome', **executable_path, headless=False)"
   ]
  },
  {
   "cell_type": "markdown",
   "id": "d26fa4ba",
   "metadata": {},
   "source": [
    "# NASA Mars News"
   ]
  },
  {
   "cell_type": "code",
   "execution_count": 7,
   "id": "4529de57",
   "metadata": {},
   "outputs": [],
   "source": [
    "# Creating url path\n",
    "url = 'https://redplanetscience.com/'"
   ]
  },
  {
   "cell_type": "code",
   "execution_count": 8,
   "id": "4d1ab353",
   "metadata": {},
   "outputs": [],
   "source": [
    "# Sending HTTP request to the server\n",
    "response = requests.get(url)\n",
    "browser.visit(url)"
   ]
  },
  {
   "cell_type": "code",
   "execution_count": 9,
   "id": "8b074cb4",
   "metadata": {},
   "outputs": [
    {
     "data": {
      "text/plain": [
       "bs4.BeautifulSoup"
      ]
     },
     "execution_count": 9,
     "metadata": {},
     "output_type": "execute_result"
    }
   ],
   "source": [
    "# Creating Beautiful soup object\n",
    "html = browser.html\n",
    "soup = bs(html, 'html.parser')\n",
    "type(soup)"
   ]
  },
  {
   "cell_type": "code",
   "execution_count": 11,
   "id": "de978e2e",
   "metadata": {},
   "outputs": [],
   "source": [
    "# Printing formatted version of the soup\n",
    "#print(soup.prettify())"
   ]
  },
  {
   "cell_type": "code",
   "execution_count": 12,
   "id": "32da4f0e",
   "metadata": {},
   "outputs": [
    {
     "name": "stdout",
     "output_type": "stream",
     "text": [
      "<div class=\"list_text\">\n",
      "<div class=\"list_date\">August 20, 2022</div>\n",
      "<div class=\"content_title\">Newfound Martian Aurora Actually the Most Common; Sheds Light on Mars' Changing Climate</div>\n",
      "<div class=\"article_teaser_body\">A type of Martian aurora first identified by NASA’s MAVEN spacecraft in 2016 is actually the most common form of aurora occurring on the Red Planet, according to new results from the mission.</div>\n",
      "</div>\n"
     ]
    }
   ],
   "source": [
    "# Printing the entire article\n",
    "article = soup.find(\"div\", class_=\"list_text\")\n",
    "print(article)"
   ]
  },
  {
   "cell_type": "code",
   "execution_count": 13,
   "id": "afa85b1b",
   "metadata": {},
   "outputs": [
    {
     "name": "stdout",
     "output_type": "stream",
     "text": [
      "The news title is \"Newfound Martian Aurora Actually the Most Common; Sheds Light on Mars' Changing Climate\"\n"
     ]
    }
   ],
   "source": [
    "# Printing the News Title\n",
    "\n",
    "news_title = article.find(\"div\", class_=\"content_title\").text\n",
    "\n",
    "print(f'The news title is \"{news_title}\"')"
   ]
  },
  {
   "cell_type": "code",
   "execution_count": 14,
   "id": "e93d5a1a",
   "metadata": {},
   "outputs": [
    {
     "name": "stdout",
     "output_type": "stream",
     "text": [
      "The News paragraph ---- : A type of Martian aurora first identified by NASA’s MAVEN spacecraft in 2016 is actually the most common form of aurora occurring on the Red Planet, according to new results from the mission.\n"
     ]
    }
   ],
   "source": [
    "# Printing the News Paragraph\n",
    "\n",
    "news_p = article.find(\"div\", class_=\"article_teaser_body\").text\n",
    "\n",
    "print(f'The News paragraph ---- : {news_p}')"
   ]
  },
  {
   "cell_type": "markdown",
   "id": "1272bc13",
   "metadata": {},
   "source": [
    "# JPL Mars Space Images—Featured Image\n"
   ]
  },
  {
   "cell_type": "code",
   "execution_count": 15,
   "id": "0a2ce8af",
   "metadata": {},
   "outputs": [],
   "source": [
    "# Setting featured image url\n",
    "features_image_url = \"https://spaceimages-mars.com/\""
   ]
  },
  {
   "cell_type": "code",
   "execution_count": 16,
   "id": "1c79250d",
   "metadata": {},
   "outputs": [],
   "source": [
    "# Sending http request to the server\n",
    "response = requests.get(features_image_url)\n",
    "browser.visit(features_image_url)"
   ]
  },
  {
   "cell_type": "code",
   "execution_count": 17,
   "id": "a42754e5",
   "metadata": {},
   "outputs": [
    {
     "data": {
      "text/plain": [
       "bs4.BeautifulSoup"
      ]
     },
     "execution_count": 17,
     "metadata": {},
     "output_type": "execute_result"
    }
   ],
   "source": [
    "# Creating Beautiful soup object\n",
    "html = browser.html\n",
    "soup = bs(html, 'html.parser')\n",
    "type(soup)"
   ]
  },
  {
   "cell_type": "code",
   "execution_count": 18,
   "id": "8272e8ff",
   "metadata": {},
   "outputs": [],
   "source": [
    "# Printing formatted version of the soup\n",
    "#print(soup.prettify())"
   ]
  },
  {
   "cell_type": "code",
   "execution_count": 19,
   "id": "3e82bba7",
   "metadata": {},
   "outputs": [
    {
     "name": "stdout",
     "output_type": "stream",
     "text": [
      "<img class=\"headerimage fade-in\" src=\"image/featured/mars2.jpg\"/>\n"
     ]
    }
   ],
   "source": [
    "# Printing featured image\n",
    "featured_image = soup.find(\"img\", class_=\"headerimage fade-in\")\n",
    "print(featured_image)"
   ]
  },
  {
   "cell_type": "code",
   "execution_count": 20,
   "id": "e66b1f15",
   "metadata": {},
   "outputs": [
    {
     "data": {
      "text/plain": [
       "('featured-image.png', <http.client.HTTPMessage at 0x7f964b987910>)"
      ]
     },
     "execution_count": 20,
     "metadata": {},
     "output_type": "execute_result"
    }
   ],
   "source": [
    "urllib.request.urlretrieve(features_image_url, \"featured-image.png\")"
   ]
  },
  {
   "cell_type": "markdown",
   "id": "3c9aabc1",
   "metadata": {},
   "source": [
    "# Mars Facts"
   ]
  },
  {
   "cell_type": "code",
   "execution_count": 35,
   "id": "69295aea",
   "metadata": {},
   "outputs": [],
   "source": [
    "# Setting up url\n",
    "mars_fact_url = \"https://galaxyfacts-mars.com/\""
   ]
  },
  {
   "cell_type": "code",
   "execution_count": 36,
   "id": "55c36303",
   "metadata": {},
   "outputs": [],
   "source": [
    "# Visiting url and sending http requests to the server\n",
    "browser.visit(mars_fact_url)\n",
    "response = requests.get(mars_fact_url)"
   ]
  },
  {
   "cell_type": "code",
   "execution_count": 37,
   "id": "1a07c9ae",
   "metadata": {},
   "outputs": [
    {
     "data": {
      "text/plain": [
       "bs4.BeautifulSoup"
      ]
     },
     "execution_count": 37,
     "metadata": {},
     "output_type": "execute_result"
    }
   ],
   "source": [
    "# Creating Beautiful soup object\n",
    "html = browser.html\n",
    "soup = bs(html, 'html.parser')\n",
    "type(soup)"
   ]
  },
  {
   "cell_type": "code",
   "execution_count": 38,
   "id": "4cf69715",
   "metadata": {},
   "outputs": [],
   "source": [
    "# Printing formatted version of the soup\n",
    "#print(soup.prettify())"
   ]
  },
  {
   "cell_type": "code",
   "execution_count": 52,
   "id": "fcff071e",
   "metadata": {},
   "outputs": [
    {
     "name": "stdout",
     "output_type": "stream",
     "text": [
      "                      0                              1\n",
      "0  Equatorial Diameter:                       6,792 km\n",
      "1       Polar Diameter:                       6,752 km\n",
      "2                 Mass:  6.39 × 10^23 kg (0.11 Earths)\n",
      "3                Moons:            2 (Phobos & Deimos)\n",
      "4       Orbit Distance:       227,943,824 km (1.38 AU)\n",
      "5         Orbit Period:           687 days (1.9 years)\n",
      "6  Surface Temperature:                   -87 to -5 °C\n",
      "7         First Record:              2nd millennium BC\n",
      "8          Recorded By:           Egyptian astronomers\n"
     ]
    }
   ],
   "source": [
    "# Use Pandas to scrape the table containing facts about the planet including Diameter, Mass, etc.\n",
    "mars_data = pd.read_html(\"https://space-facts.com/mars/\")[0]\n",
    "\n",
    "print(mars_data)"
   ]
  },
  {
   "cell_type": "code",
   "execution_count": 55,
   "id": "caa29d19",
   "metadata": {},
   "outputs": [
    {
     "data": {
      "text/html": [
       "<div>\n",
       "<style scoped>\n",
       "    .dataframe tbody tr th:only-of-type {\n",
       "        vertical-align: middle;\n",
       "    }\n",
       "\n",
       "    .dataframe tbody tr th {\n",
       "        vertical-align: top;\n",
       "    }\n",
       "\n",
       "    .dataframe thead th {\n",
       "        text-align: right;\n",
       "    }\n",
       "</style>\n",
       "<table border=\"1\" class=\"dataframe\">\n",
       "  <thead>\n",
       "    <tr style=\"text-align: right;\">\n",
       "      <th></th>\n",
       "      <th>Mars Planet Profile</th>\n",
       "      <th>Value</th>\n",
       "    </tr>\n",
       "  </thead>\n",
       "  <tbody>\n",
       "    <tr>\n",
       "      <th>0</th>\n",
       "      <td>Equatorial Diameter:</td>\n",
       "      <td>6,792 km</td>\n",
       "    </tr>\n",
       "    <tr>\n",
       "      <th>1</th>\n",
       "      <td>Polar Diameter:</td>\n",
       "      <td>6,752 km</td>\n",
       "    </tr>\n",
       "    <tr>\n",
       "      <th>2</th>\n",
       "      <td>Mass:</td>\n",
       "      <td>6.39 × 10^23 kg (0.11 Earths)</td>\n",
       "    </tr>\n",
       "    <tr>\n",
       "      <th>3</th>\n",
       "      <td>Moons:</td>\n",
       "      <td>2 (Phobos &amp; Deimos)</td>\n",
       "    </tr>\n",
       "    <tr>\n",
       "      <th>4</th>\n",
       "      <td>Orbit Distance:</td>\n",
       "      <td>227,943,824 km (1.38 AU)</td>\n",
       "    </tr>\n",
       "    <tr>\n",
       "      <th>5</th>\n",
       "      <td>Orbit Period:</td>\n",
       "      <td>687 days (1.9 years)</td>\n",
       "    </tr>\n",
       "    <tr>\n",
       "      <th>6</th>\n",
       "      <td>Surface Temperature:</td>\n",
       "      <td>-87 to -5 °C</td>\n",
       "    </tr>\n",
       "  </tbody>\n",
       "</table>\n",
       "</div>"
      ],
      "text/plain": [
       "    Mars Planet Profile                          Value\n",
       "0  Equatorial Diameter:                       6,792 km\n",
       "1       Polar Diameter:                       6,752 km\n",
       "2                 Mass:  6.39 × 10^23 kg (0.11 Earths)\n",
       "3                Moons:            2 (Phobos & Deimos)\n",
       "4       Orbit Distance:       227,943,824 km (1.38 AU)\n",
       "5         Orbit Period:           687 days (1.9 years)\n",
       "6  Surface Temperature:                   -87 to -5 °C"
      ]
     },
     "execution_count": 55,
     "metadata": {},
     "output_type": "execute_result"
    }
   ],
   "source": [
    "# Loading Mars Facts into Pandas DataFrame\n",
    "mars_data.columns=[\"Mars Planet Profile\", \"Value\"]\n",
    "mars_data.drop([7,8])"
   ]
  },
  {
   "cell_type": "markdown",
   "id": "4d9f2dd2",
   "metadata": {},
   "source": [
    "# Mars Hemispheres"
   ]
  },
  {
   "cell_type": "code",
   "execution_count": 64,
   "id": "e9319517",
   "metadata": {},
   "outputs": [],
   "source": [
    "# Setting up url\n",
    "astropedia_url = 'https://marshemispheres.com/'"
   ]
  },
  {
   "cell_type": "code",
   "execution_count": 65,
   "id": "53a4d9aa",
   "metadata": {},
   "outputs": [],
   "source": [
    "# Sending http request to the server\n",
    "response = requests.get(features_image_url)\n",
    "browser.visit(features_image_url)"
   ]
  },
  {
   "cell_type": "code",
   "execution_count": 66,
   "id": "992c3aa2",
   "metadata": {},
   "outputs": [
    {
     "data": {
      "text/plain": [
       "bs4.BeautifulSoup"
      ]
     },
     "execution_count": 66,
     "metadata": {},
     "output_type": "execute_result"
    }
   ],
   "source": [
    "# Creating Beautiful soup object\n",
    "html = browser.html\n",
    "soup = bs(html, 'html.parser')\n",
    "type(soup)"
   ]
  },
  {
   "cell_type": "code",
   "execution_count": 67,
   "id": "42b553b2",
   "metadata": {},
   "outputs": [],
   "source": [
    "# Printing formatted version of the soup\n",
    "#print(soup.prettify())"
   ]
  },
  {
   "cell_type": "code",
   "execution_count": null,
   "id": "be89a51d",
   "metadata": {},
   "outputs": [],
   "source": [
    "# Save both the image url string for the full resolution hemisphere image, \n",
    "# and the Hemisphere title containing the hemisphere name\n",
    "soup1 = bs(html, \"html.parser\")\n",
    "items = soup1.find_all(\"div\", class_=\"item\")\n",
    "\n",
    "hemisphere_img_urls = []\n",
    "\n",
    "for item in items:\n",
    "\n",
    "    title = item.find(\"h3\").text\n",
    "    link = item.find(\"a\", class_=\"itemLink\")[\"href\"]\n",
    "    hemispherelink = url + link\n",
    "    browser.visit(hemispherelink)\n",
    "    hemispherehtml = browser.html\n",
    "\n",
    "    soup2 = bs(hemispherehtml, \"lxml\")\n",
    "    image = soup2.find(\"img\", class_=\"wide-image\")[\"src\"]\n",
    "    imageurl = url + image\n",
    "    hemisphere = {}\n",
    "\n",
    "    hemisphere_img_urls.append({\"title\":title,\"img_url\":imageurl})\n",
    "\n",
    "    browser.back()\n",
    "\n",
    "\n",
    "# Use a Python dictionary to store the data using the keys `img_url` and `title`\n",
    "print(hemisphere_img_urls)"
   ]
  },
  {
   "cell_type": "code",
   "execution_count": null,
   "id": "1b475af8",
   "metadata": {},
   "outputs": [],
   "source": []
  }
 ],
 "metadata": {
  "kernelspec": {
   "display_name": "Python 3 (ipykernel)",
   "language": "python",
   "name": "python3"
  },
  "language_info": {
   "codemirror_mode": {
    "name": "ipython",
    "version": 3
   },
   "file_extension": ".py",
   "mimetype": "text/x-python",
   "name": "python",
   "nbconvert_exporter": "python",
   "pygments_lexer": "ipython3",
   "version": "3.9.12"
  }
 },
 "nbformat": 4,
 "nbformat_minor": 5
}
