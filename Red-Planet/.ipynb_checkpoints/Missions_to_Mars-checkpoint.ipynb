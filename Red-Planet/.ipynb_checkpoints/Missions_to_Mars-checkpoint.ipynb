{
 "cells": [
  {
   "cell_type": "code",
   "execution_count": 1,
   "id": "e90f3d4d",
   "metadata": {},
   "outputs": [],
   "source": [
    "# import Dependencies\n",
    "import pandas as pd\n",
    "import os\n",
    "from bs4 import BeautifulSoup as bs\n",
    "import requests\n",
    "from selenium import webdriver\n",
    "from webdriver_manager.chrome import ChromeDriverManager\n",
    "from splinter import Browser"
   ]
  },
  {
   "cell_type": "code",
   "execution_count": 2,
   "id": "415f6bed",
   "metadata": {},
   "outputs": [],
   "source": [
    "executable_path = {'executable_path': ChromeDriverManager().install()}\n",
    "browser = Browser('chrome', **executable_path, headless=True)"
   ]
  },
  {
   "cell_type": "markdown",
   "id": "49fc02ec",
   "metadata": {},
   "source": [
    "# NASA Mars News"
   ]
  },
  {
   "cell_type": "code",
   "execution_count": 3,
   "id": "e0c7c996",
   "metadata": {},
   "outputs": [],
   "source": [
    "# Creating url path\n",
    "url = 'https://redplanetscience.com/'"
   ]
  },
  {
   "cell_type": "code",
   "execution_count": 4,
   "id": "2fc59d8e",
   "metadata": {},
   "outputs": [],
   "source": [
    "# Sending HTTP request to the server\n",
    "response = requests.get(url)\n",
    "browser.visit(url)"
   ]
  },
  {
   "cell_type": "code",
   "execution_count": 5,
   "id": "f38d5663",
   "metadata": {},
   "outputs": [
    {
     "data": {
      "text/plain": [
       "bs4.BeautifulSoup"
      ]
     },
     "execution_count": 5,
     "metadata": {},
     "output_type": "execute_result"
    }
   ],
   "source": [
    "# Creating Beautiful soup object\n",
    "html = browser.html\n",
    "soup = bs(html, 'html.parser')\n",
    "type(soup)"
   ]
  },
  {
   "cell_type": "code",
   "execution_count": 6,
   "id": "52196ac9",
   "metadata": {},
   "outputs": [],
   "source": [
    "# Printing formatted version of the soup\n",
    "#print(soup.prettify())"
   ]
  },
  {
   "cell_type": "code",
   "execution_count": 7,
   "id": "9c1bd1d3",
   "metadata": {},
   "outputs": [
    {
     "name": "stdout",
     "output_type": "stream",
     "text": [
      "<div class=\"list_text\">\n",
      "<div class=\"list_date\">September 8, 2022</div>\n",
      "<div class=\"content_title\">Deadline Closing for Names to Fly on NASA's Next Mars Rover</div>\n",
      "<div class=\"article_teaser_body\">You have until Sept. 30 to send your names to Mars aboard the Mars 2020 rover. </div>\n",
      "</div>\n"
     ]
    }
   ],
   "source": [
    "# Printing the entire article\n",
    "article = soup.find(\"div\", class_=\"list_text\")\n",
    "print(article)"
   ]
  },
  {
   "cell_type": "code",
   "execution_count": 8,
   "id": "0ccad17c",
   "metadata": {},
   "outputs": [
    {
     "name": "stdout",
     "output_type": "stream",
     "text": [
      "The news title is \"Deadline Closing for Names to Fly on NASA's Next Mars Rover\"\n"
     ]
    }
   ],
   "source": [
    "# Printing the News Title\n",
    "\n",
    "news_title = article.find(\"div\", class_=\"content_title\").text\n",
    "\n",
    "print(f'The news title is \"{news_title}\"')"
   ]
  },
  {
   "cell_type": "code",
   "execution_count": 9,
   "id": "55b1b953",
   "metadata": {},
   "outputs": [
    {
     "name": "stdout",
     "output_type": "stream",
     "text": [
      "The News paragraph ---- : You have until Sept. 30 to send your names to Mars aboard the Mars 2020 rover. \n"
     ]
    }
   ],
   "source": [
    "# Printing the News Paragraph\n",
    "\n",
    "news_p = article.find(\"div\", class_=\"article_teaser_body\").text\n",
    "\n",
    "print(f'The News paragraph ---- : {news_p}')"
   ]
  },
  {
   "cell_type": "markdown",
   "id": "4751578b",
   "metadata": {},
   "source": [
    "# JPL Mars Space Images—Featured Image\n"
   ]
  },
  {
   "cell_type": "code",
   "execution_count": 10,
   "id": "07ba1f87",
   "metadata": {},
   "outputs": [],
   "source": [
    "# Setting featured image url\n",
    "features_image_url = \"https://spaceimages-mars.com/\""
   ]
  },
  {
   "cell_type": "code",
   "execution_count": 11,
   "id": "16e2f5de",
   "metadata": {},
   "outputs": [],
   "source": [
    "# Sending HTTP request to the server\n",
    "response = requests.get(features_image_url)\n",
    "browser.visit(features_image_url)"
   ]
  },
  {
   "cell_type": "code",
   "execution_count": 12,
   "id": "ad1e9b66",
   "metadata": {},
   "outputs": [
    {
     "data": {
      "text/plain": [
       "bs4.BeautifulSoup"
      ]
     },
     "execution_count": 12,
     "metadata": {},
     "output_type": "execute_result"
    }
   ],
   "source": [
    "# Creating Beautiful soup object\n",
    "html = browser.html\n",
    "soup = bs(html, 'html.parser')\n",
    "type(soup)"
   ]
  },
  {
   "cell_type": "code",
   "execution_count": 13,
   "id": "7b2d3342",
   "metadata": {},
   "outputs": [],
   "source": [
    "# Printing formatted version of the soup\n",
    "#print(soup.prettify())"
   ]
  },
  {
   "cell_type": "code",
   "execution_count": 14,
   "id": "dbad21e5",
   "metadata": {},
   "outputs": [
    {
     "data": {
      "text/plain": [
       "'https://spaceimages-mars.com/image/featured/mars2.jpg'"
      ]
     },
     "execution_count": 14,
     "metadata": {},
     "output_type": "execute_result"
    }
   ],
   "source": [
    "# Printing featured image\n",
    "image = soup.find(\"a\", class_=\"fancybox-thumbs\")[\"href\"]\n",
    "featured_image_url = f'https://spaceimages-mars.com/{image}'\n",
    "featured_image_url "
   ]
  },
  {
   "cell_type": "markdown",
   "id": "018b74ad",
   "metadata": {},
   "source": [
    "# Mars Facts"
   ]
  },
  {
   "cell_type": "code",
   "execution_count": 15,
   "id": "12311250",
   "metadata": {},
   "outputs": [],
   "source": [
    "# Setting up url\n",
    "mars_fact_url = \"https://galaxyfacts-mars.com/\""
   ]
  },
  {
   "cell_type": "code",
   "execution_count": 16,
   "id": "b026f709",
   "metadata": {},
   "outputs": [],
   "source": [
    "# Visiting url and sending http requests to the server\n",
    "browser.visit(mars_fact_url)\n",
    "response = requests.get(mars_fact_url)"
   ]
  },
  {
   "cell_type": "code",
   "execution_count": 17,
   "id": "7fc93af2",
   "metadata": {},
   "outputs": [],
   "source": [
    " # Creating Beautiful soup object\n",
    "html = browser.html\n",
    "soup = bs(html, 'html.parser')"
   ]
  },
  {
   "cell_type": "code",
   "execution_count": 18,
   "id": "f78e25b3",
   "metadata": {},
   "outputs": [],
   "source": [
    " # Use Pandas to scrape the table containing facts about the planet including Diameter, Mass, etc.\n",
    "mars_data = pd.read_html(\"https://space-facts.com/mars/\")[1]"
   ]
  },
  {
   "cell_type": "code",
   "execution_count": 19,
   "id": "9f61e61a",
   "metadata": {},
   "outputs": [
    {
     "data": {
      "text/html": [
       "<div>\n",
       "<style scoped>\n",
       "    .dataframe tbody tr th:only-of-type {\n",
       "        vertical-align: middle;\n",
       "    }\n",
       "\n",
       "    .dataframe tbody tr th {\n",
       "        vertical-align: top;\n",
       "    }\n",
       "\n",
       "    .dataframe thead th {\n",
       "        text-align: right;\n",
       "    }\n",
       "</style>\n",
       "<table border=\"1\" class=\"dataframe\">\n",
       "  <thead>\n",
       "    <tr style=\"text-align: right;\">\n",
       "      <th></th>\n",
       "      <th>Mars</th>\n",
       "      <th>Earth</th>\n",
       "    </tr>\n",
       "    <tr>\n",
       "      <th>Mars - Earth Comparison</th>\n",
       "      <th></th>\n",
       "      <th></th>\n",
       "    </tr>\n",
       "  </thead>\n",
       "  <tbody>\n",
       "    <tr>\n",
       "      <th>Diameter:</th>\n",
       "      <td>6,779 km</td>\n",
       "      <td>12,742 km</td>\n",
       "    </tr>\n",
       "    <tr>\n",
       "      <th>Mass:</th>\n",
       "      <td>6.39 × 10^23 kg</td>\n",
       "      <td>5.97 × 10^24 kg</td>\n",
       "    </tr>\n",
       "    <tr>\n",
       "      <th>Moons:</th>\n",
       "      <td>2</td>\n",
       "      <td>1</td>\n",
       "    </tr>\n",
       "    <tr>\n",
       "      <th>Distance from Sun:</th>\n",
       "      <td>227,943,824 km</td>\n",
       "      <td>149,598,262 km</td>\n",
       "    </tr>\n",
       "    <tr>\n",
       "      <th>Length of Year:</th>\n",
       "      <td>687 Earth days</td>\n",
       "      <td>365.24 days</td>\n",
       "    </tr>\n",
       "    <tr>\n",
       "      <th>Temperature:</th>\n",
       "      <td>-87 to -5 °C</td>\n",
       "      <td>-88 to 58°C</td>\n",
       "    </tr>\n",
       "  </tbody>\n",
       "</table>\n",
       "</div>"
      ],
      "text/plain": [
       "                                    Mars            Earth\n",
       "Mars - Earth Comparison                                  \n",
       "Diameter:                       6,779 km        12,742 km\n",
       "Mass:                    6.39 × 10^23 kg  5.97 × 10^24 kg\n",
       "Moons:                                 2                1\n",
       "Distance from Sun:        227,943,824 km   149,598,262 km\n",
       "Length of Year:           687 Earth days      365.24 days\n",
       "Temperature:                -87 to -5 °C      -88 to 58°C"
      ]
     },
     "execution_count": 19,
     "metadata": {},
     "output_type": "execute_result"
    }
   ],
   "source": [
    "df = mars_data\n",
    "df.set_index('Mars - Earth Comparison', inplace=True)\n",
    "df"
   ]
  },
  {
   "cell_type": "code",
   "execution_count": 20,
   "id": "ef325ed0",
   "metadata": {},
   "outputs": [],
   "source": [
    " # Using Pandas to convert the data to a HTML table string.\n",
    "html_table = df.to_html()"
   ]
  },
  {
   "cell_type": "markdown",
   "id": "87425efa",
   "metadata": {},
   "source": [
    "# Mars Hemispheres"
   ]
  },
  {
   "cell_type": "code",
   "execution_count": 21,
   "id": "20a13303",
   "metadata": {},
   "outputs": [],
   "source": [
    "# Setting up url\n",
    "base_url = 'https://marshemispheres.com/'"
   ]
  },
  {
   "cell_type": "code",
   "execution_count": 22,
   "id": "d6d25fa3",
   "metadata": {},
   "outputs": [],
   "source": [
    "# Sending http request to the server\n",
    "response = requests.get(base_url)\n",
    "browser.visit(base_url)"
   ]
  },
  {
   "cell_type": "code",
   "execution_count": 23,
   "id": "0caa24d2",
   "metadata": {},
   "outputs": [],
   "source": [
    "# Creating Beautiful soup object\n",
    "html = browser.html\n",
    "soup = bs(html, 'html.parser')"
   ]
  },
  {
   "cell_type": "code",
   "execution_count": 25,
   "id": "82f7d14c",
   "metadata": {},
   "outputs": [],
   "source": [
    "# Saving both the image url string for the full resolution hemisphere image,and the Hemisphere \n",
    "    # title containing the hemisphere name\n",
    "\n",
    "hemisphere_img_urls = []\n",
    "\n",
    "contents = soup.find_all(\"div\", class_=\"item\")\n",
    "\n",
    "for content in contents:\n",
    "    hemisphere = {}\n",
    "\n",
    "    title = content.find(\"h3\").text\n",
    "    link = content.find(\"a\", class_=\"itemLink\")[\"href\"]\n",
    "    hemisphere = base_url + link\n",
    "    browser.visit(hemisphere)\n",
    "    hemispherehtml = browser.html\n",
    "\n",
    "    soup2 = bs(hemispherehtml, 'html.parser')\n",
    "    image = soup2.find(\"img\", class_= \"wide-image\")[\"src\"]\n",
    "    img_url = base_url + image\n",
    "    hemisphere = {}\n",
    "\n",
    "    hemisphere_img_urls.append({\"title\":title,\"img_url\":img_url})"
   ]
  },
  {
   "cell_type": "code",
   "execution_count": 26,
   "id": "d4f61c3b",
   "metadata": {},
   "outputs": [
    {
     "data": {
      "text/plain": [
       "[{'title': 'Cerberus Hemisphere Enhanced',\n",
       "  'img_url': 'https://marshemispheres.com/images/f5e372a36edfa389625da6d0cc25d905_cerberus_enhanced.tif_full.jpg'},\n",
       " {'title': 'Schiaparelli Hemisphere Enhanced',\n",
       "  'img_url': 'https://marshemispheres.com/images/3778f7b43bbbc89d6e3cfabb3613ba93_schiaparelli_enhanced.tif_full.jpg'},\n",
       " {'title': 'Syrtis Major Hemisphere Enhanced',\n",
       "  'img_url': 'https://marshemispheres.com/images/555e6403a6ddd7ba16ddb0e471cadcf7_syrtis_major_enhanced.tif_full.jpg'},\n",
       " {'title': 'Valles Marineris Hemisphere Enhanced',\n",
       "  'img_url': 'https://marshemispheres.com/images/b3c7c6c9138f57b4756be9b9c43e3a48_valles_marineris_enhanced.tif_full.jpg'}]"
      ]
     },
     "execution_count": 26,
     "metadata": {},
     "output_type": "execute_result"
    }
   ],
   "source": [
    "# Use a Python dictionary to store the data using the keys `img_url` and `title`\n",
    "hemisphere_img_urls"
   ]
  }
 ],
 "metadata": {
  "kernelspec": {
   "display_name": "Python 3 (ipykernel)",
   "language": "python",
   "name": "python3"
  },
  "language_info": {
   "codemirror_mode": {
    "name": "ipython",
    "version": 3
   },
   "file_extension": ".py",
   "mimetype": "text/x-python",
   "name": "python",
   "nbconvert_exporter": "python",
   "pygments_lexer": "ipython3",
   "version": "3.9.12"
  }
 },
 "nbformat": 4,
 "nbformat_minor": 5
}
